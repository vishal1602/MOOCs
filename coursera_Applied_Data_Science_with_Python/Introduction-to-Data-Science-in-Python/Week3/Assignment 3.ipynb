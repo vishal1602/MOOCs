{
 "cells": [
  {
   "cell_type": "code",
   "execution_count": 1,
   "metadata": {},
   "outputs": [],
   "source": [
    "import pandas as pd\n",
    "import numpy as np\n",
    "import re"
   ]
  },
  {
   "cell_type": "code",
   "execution_count": 2,
   "metadata": {},
   "outputs": [],
   "source": [
    "# set display options\n",
    "pd.set_option('display.max_columns',500)\n",
    "pd.set_option('display.max_rows',500)"
   ]
  },
  {
   "cell_type": "code",
   "execution_count": 3,
   "metadata": {},
   "outputs": [],
   "source": [
    "data_folder = '/Users/vishal.gupta/Documents/s/coursera_Applied_Data_Science_with_Python/Introduction-to-Data-Science-in-Python/Data/'"
   ]
  },
  {
   "cell_type": "markdown",
   "metadata": {},
   "source": [
    "### Question 1 (20%)"
   ]
  },
  {
   "cell_type": "code",
   "execution_count": 4,
   "metadata": {},
   "outputs": [
    {
     "name": "stderr",
     "output_type": "stream",
     "text": [
      "/Users/vishal.gupta/paysense/dashboards/venv/lib/python3.6/site-packages/pandas/util/_decorators.py:177: FutureWarning: the 'skip_footer' keyword is deprecated, use 'skipfooter' instead\n",
      "  return func(*args, **kwargs)\n"
     ]
    },
    {
     "data": {
      "text/html": [
       "<div>\n",
       "<style scoped>\n",
       "    .dataframe tbody tr th:only-of-type {\n",
       "        vertical-align: middle;\n",
       "    }\n",
       "\n",
       "    .dataframe tbody tr th {\n",
       "        vertical-align: top;\n",
       "    }\n",
       "\n",
       "    .dataframe thead th {\n",
       "        text-align: right;\n",
       "    }\n",
       "</style>\n",
       "<table border=\"1\" class=\"dataframe\">\n",
       "  <thead>\n",
       "    <tr style=\"text-align: right;\">\n",
       "      <th></th>\n",
       "      <th>Country</th>\n",
       "      <th>Energy Supply</th>\n",
       "      <th>Energy Supply per Capita</th>\n",
       "      <th>% Renewable</th>\n",
       "    </tr>\n",
       "  </thead>\n",
       "  <tbody>\n",
       "    <tr>\n",
       "      <th>0</th>\n",
       "      <td>Afghanistan</td>\n",
       "      <td>321000000</td>\n",
       "      <td>10</td>\n",
       "      <td>78.66928</td>\n",
       "    </tr>\n",
       "    <tr>\n",
       "      <th>1</th>\n",
       "      <td>Albania</td>\n",
       "      <td>102000000</td>\n",
       "      <td>35</td>\n",
       "      <td>100.00000</td>\n",
       "    </tr>\n",
       "  </tbody>\n",
       "</table>\n",
       "</div>"
      ],
      "text/plain": [
       "       Country Energy Supply Energy Supply per Capita  % Renewable\n",
       "0  Afghanistan     321000000                       10     78.66928\n",
       "1      Albania     102000000                       35    100.00000"
      ]
     },
     "execution_count": 4,
     "metadata": {},
     "output_type": "execute_result"
    }
   ],
   "source": [
    "energy = pd.read_excel(data_folder + 'Energy Indicators.xls', skiprows=17,skip_footer= 38)\n",
    "energy.drop(columns=['Unnamed: 0', 'Unnamed: 1'], inplace=True)\n",
    "energy.columns = ['Country', 'Energy Supply', 'Energy Supply per Capita', '% Renewable']\n",
    "energy['Energy Supply'] = np.where(energy['Energy Supply'] == '...', np.NaN, energy['Energy Supply'])\n",
    "energy['Energy Supply per Capita'] = np.where(energy['Energy Supply per Capita'] == \n",
    "                                              '...', np.NaN, energy['Energy Supply per Capita'])\n",
    "\n",
    "energy['Energy Supply'] = energy['Energy Supply']*1000000\n",
    "energy['Country'] = energy['Country'].replace({\"Republic of Korea\": \"South Korea\",\n",
    "                                            \"United States of America20\": \"United States\",\n",
    "                                            \"United Kingdom of Great Britain and Northern Ireland19\": \"United Kingdom\",\n",
    "                                            \"China, Hong Kong Special Administrative Region\": \"Hong Kong\",\n",
    "                                            })\n",
    "energy['Country'] = energy['Country'].str.replace(\" \\(.*\\)\",\"\")\n",
    "energy['Country'] = energy['Country'].apply(lambda x: re.sub(r'\\d+', '', x))\n",
    "energy.head(2)"
   ]
  },
  {
   "cell_type": "code",
   "execution_count": 5,
   "metadata": {},
   "outputs": [
    {
     "data": {
      "text/html": [
       "<div>\n",
       "<style scoped>\n",
       "    .dataframe tbody tr th:only-of-type {\n",
       "        vertical-align: middle;\n",
       "    }\n",
       "\n",
       "    .dataframe tbody tr th {\n",
       "        vertical-align: top;\n",
       "    }\n",
       "\n",
       "    .dataframe thead th {\n",
       "        text-align: right;\n",
       "    }\n",
       "</style>\n",
       "<table border=\"1\" class=\"dataframe\">\n",
       "  <thead>\n",
       "    <tr style=\"text-align: right;\">\n",
       "      <th></th>\n",
       "      <th>Country</th>\n",
       "      <th>Country Code</th>\n",
       "      <th>Indicator Name</th>\n",
       "      <th>Indicator Code</th>\n",
       "      <th>1960</th>\n",
       "      <th>1961</th>\n",
       "      <th>1962</th>\n",
       "      <th>1963</th>\n",
       "      <th>1964</th>\n",
       "      <th>1965</th>\n",
       "      <th>1966</th>\n",
       "      <th>1967</th>\n",
       "      <th>1968</th>\n",
       "      <th>1969</th>\n",
       "      <th>1970</th>\n",
       "      <th>1971</th>\n",
       "      <th>1972</th>\n",
       "      <th>1973</th>\n",
       "      <th>1974</th>\n",
       "      <th>1975</th>\n",
       "      <th>1976</th>\n",
       "      <th>1977</th>\n",
       "      <th>1978</th>\n",
       "      <th>1979</th>\n",
       "      <th>1980</th>\n",
       "      <th>1981</th>\n",
       "      <th>1982</th>\n",
       "      <th>1983</th>\n",
       "      <th>1984</th>\n",
       "      <th>1985</th>\n",
       "      <th>1986</th>\n",
       "      <th>1987</th>\n",
       "      <th>1988</th>\n",
       "      <th>1989</th>\n",
       "      <th>1990</th>\n",
       "      <th>1991</th>\n",
       "      <th>1992</th>\n",
       "      <th>1993</th>\n",
       "      <th>1994</th>\n",
       "      <th>1995</th>\n",
       "      <th>1996</th>\n",
       "      <th>1997</th>\n",
       "      <th>1998</th>\n",
       "      <th>1999</th>\n",
       "      <th>2000</th>\n",
       "      <th>2001</th>\n",
       "      <th>2002</th>\n",
       "      <th>2003</th>\n",
       "      <th>2004</th>\n",
       "      <th>2005</th>\n",
       "      <th>2006</th>\n",
       "      <th>2007</th>\n",
       "      <th>2008</th>\n",
       "      <th>2009</th>\n",
       "      <th>2010</th>\n",
       "      <th>2011</th>\n",
       "      <th>2012</th>\n",
       "      <th>2013</th>\n",
       "      <th>2014</th>\n",
       "      <th>2015</th>\n",
       "    </tr>\n",
       "  </thead>\n",
       "  <tbody>\n",
       "    <tr>\n",
       "      <th>0</th>\n",
       "      <td>Aruba</td>\n",
       "      <td>ABW</td>\n",
       "      <td>GDP at market prices (constant 2010 US$)</td>\n",
       "      <td>NY.GDP.MKTP.KD</td>\n",
       "      <td>NaN</td>\n",
       "      <td>NaN</td>\n",
       "      <td>NaN</td>\n",
       "      <td>NaN</td>\n",
       "      <td>NaN</td>\n",
       "      <td>NaN</td>\n",
       "      <td>NaN</td>\n",
       "      <td>NaN</td>\n",
       "      <td>NaN</td>\n",
       "      <td>NaN</td>\n",
       "      <td>NaN</td>\n",
       "      <td>NaN</td>\n",
       "      <td>NaN</td>\n",
       "      <td>NaN</td>\n",
       "      <td>NaN</td>\n",
       "      <td>NaN</td>\n",
       "      <td>NaN</td>\n",
       "      <td>NaN</td>\n",
       "      <td>NaN</td>\n",
       "      <td>NaN</td>\n",
       "      <td>NaN</td>\n",
       "      <td>NaN</td>\n",
       "      <td>NaN</td>\n",
       "      <td>NaN</td>\n",
       "      <td>NaN</td>\n",
       "      <td>NaN</td>\n",
       "      <td>NaN</td>\n",
       "      <td>NaN</td>\n",
       "      <td>NaN</td>\n",
       "      <td>NaN</td>\n",
       "      <td>NaN</td>\n",
       "      <td>NaN</td>\n",
       "      <td>NaN</td>\n",
       "      <td>NaN</td>\n",
       "      <td>NaN</td>\n",
       "      <td>NaN</td>\n",
       "      <td>NaN</td>\n",
       "      <td>NaN</td>\n",
       "      <td>NaN</td>\n",
       "      <td>NaN</td>\n",
       "      <td>NaN</td>\n",
       "      <td>NaN</td>\n",
       "      <td>NaN</td>\n",
       "      <td>NaN</td>\n",
       "      <td>NaN</td>\n",
       "      <td>NaN</td>\n",
       "      <td>NaN</td>\n",
       "      <td>NaN</td>\n",
       "      <td>NaN</td>\n",
       "      <td>NaN</td>\n",
       "      <td>2.467704e+09</td>\n",
       "      <td>NaN</td>\n",
       "      <td>NaN</td>\n",
       "      <td>NaN</td>\n",
       "      <td>NaN</td>\n",
       "      <td>NaN</td>\n",
       "    </tr>\n",
       "    <tr>\n",
       "      <th>1</th>\n",
       "      <td>Andorra</td>\n",
       "      <td>AND</td>\n",
       "      <td>GDP at market prices (constant 2010 US$)</td>\n",
       "      <td>NY.GDP.MKTP.KD</td>\n",
       "      <td>NaN</td>\n",
       "      <td>NaN</td>\n",
       "      <td>NaN</td>\n",
       "      <td>NaN</td>\n",
       "      <td>NaN</td>\n",
       "      <td>NaN</td>\n",
       "      <td>NaN</td>\n",
       "      <td>NaN</td>\n",
       "      <td>NaN</td>\n",
       "      <td>NaN</td>\n",
       "      <td>1.022871e+09</td>\n",
       "      <td>1.070430e+09</td>\n",
       "      <td>1.157667e+09</td>\n",
       "      <td>1.247831e+09</td>\n",
       "      <td>1.317944e+09</td>\n",
       "      <td>1.325090e+09</td>\n",
       "      <td>1.368868e+09</td>\n",
       "      <td>1.407725e+09</td>\n",
       "      <td>1.428320e+09</td>\n",
       "      <td>1.428913e+09</td>\n",
       "      <td>1.460474e+09</td>\n",
       "      <td>1.458539e+09</td>\n",
       "      <td>1.476720e+09</td>\n",
       "      <td>1.502859e+09</td>\n",
       "      <td>1.529681e+09</td>\n",
       "      <td>1.565191e+09</td>\n",
       "      <td>1.616112e+09</td>\n",
       "      <td>1.705759e+09</td>\n",
       "      <td>1.792656e+09</td>\n",
       "      <td>1.879188e+09</td>\n",
       "      <td>1.950248e+09</td>\n",
       "      <td>1.999901e+09</td>\n",
       "      <td>2.018485e+09</td>\n",
       "      <td>1.997664e+09</td>\n",
       "      <td>2.045272e+09</td>\n",
       "      <td>2.101671e+09</td>\n",
       "      <td>2.199393e+09</td>\n",
       "      <td>2.398827e+09</td>\n",
       "      <td>2.475464e+09</td>\n",
       "      <td>2.576935e+09</td>\n",
       "      <td>2.606977e+09</td>\n",
       "      <td>2.765137e+09</td>\n",
       "      <td>2.942848e+09</td>\n",
       "      <td>3.296693e+09</td>\n",
       "      <td>3.562720e+09</td>\n",
       "      <td>3.842027e+09</td>\n",
       "      <td>4.018196e+09</td>\n",
       "      <td>4.021331e+09</td>\n",
       "      <td>3.675728e+09</td>\n",
       "      <td>3.535389e+09</td>\n",
       "      <td>3.346317e+09</td>\n",
       "      <td>3.185605e+09</td>\n",
       "      <td>3.129538e+09</td>\n",
       "      <td>3.127550e+09</td>\n",
       "      <td>NaN</td>\n",
       "      <td>NaN</td>\n",
       "    </tr>\n",
       "  </tbody>\n",
       "</table>\n",
       "</div>"
      ],
      "text/plain": [
       "   Country Country Code                            Indicator Name  \\\n",
       "0    Aruba          ABW  GDP at market prices (constant 2010 US$)   \n",
       "1  Andorra          AND  GDP at market prices (constant 2010 US$)   \n",
       "\n",
       "   Indicator Code  1960  1961  1962  1963  1964  1965  1966  1967  1968  1969  \\\n",
       "0  NY.GDP.MKTP.KD   NaN   NaN   NaN   NaN   NaN   NaN   NaN   NaN   NaN   NaN   \n",
       "1  NY.GDP.MKTP.KD   NaN   NaN   NaN   NaN   NaN   NaN   NaN   NaN   NaN   NaN   \n",
       "\n",
       "           1970          1971          1972          1973          1974  \\\n",
       "0           NaN           NaN           NaN           NaN           NaN   \n",
       "1  1.022871e+09  1.070430e+09  1.157667e+09  1.247831e+09  1.317944e+09   \n",
       "\n",
       "           1975          1976          1977          1978          1979  \\\n",
       "0           NaN           NaN           NaN           NaN           NaN   \n",
       "1  1.325090e+09  1.368868e+09  1.407725e+09  1.428320e+09  1.428913e+09   \n",
       "\n",
       "           1980          1981          1982          1983          1984  \\\n",
       "0           NaN           NaN           NaN           NaN           NaN   \n",
       "1  1.460474e+09  1.458539e+09  1.476720e+09  1.502859e+09  1.529681e+09   \n",
       "\n",
       "           1985          1986          1987          1988          1989  \\\n",
       "0           NaN           NaN           NaN           NaN           NaN   \n",
       "1  1.565191e+09  1.616112e+09  1.705759e+09  1.792656e+09  1.879188e+09   \n",
       "\n",
       "           1990          1991          1992          1993          1994  \\\n",
       "0           NaN           NaN           NaN           NaN           NaN   \n",
       "1  1.950248e+09  1.999901e+09  2.018485e+09  1.997664e+09  2.045272e+09   \n",
       "\n",
       "           1995          1996          1997          1998          1999  \\\n",
       "0           NaN           NaN           NaN           NaN           NaN   \n",
       "1  2.101671e+09  2.199393e+09  2.398827e+09  2.475464e+09  2.576935e+09   \n",
       "\n",
       "           2000          2001          2002          2003          2004  \\\n",
       "0           NaN           NaN           NaN           NaN           NaN   \n",
       "1  2.606977e+09  2.765137e+09  2.942848e+09  3.296693e+09  3.562720e+09   \n",
       "\n",
       "           2005          2006          2007          2008          2009  \\\n",
       "0           NaN           NaN           NaN           NaN           NaN   \n",
       "1  3.842027e+09  4.018196e+09  4.021331e+09  3.675728e+09  3.535389e+09   \n",
       "\n",
       "           2010          2011          2012          2013  2014  2015  \n",
       "0  2.467704e+09           NaN           NaN           NaN   NaN   NaN  \n",
       "1  3.346317e+09  3.185605e+09  3.129538e+09  3.127550e+09   NaN   NaN  "
      ]
     },
     "execution_count": 5,
     "metadata": {},
     "output_type": "execute_result"
    }
   ],
   "source": [
    "gdp = pd.read_csv(data_folder + 'world_bank.csv', skiprows=4)\n",
    "gdp['Country Name'] = gdp['Country Name'].replace({\"Korea, Rep.\": \"South Korea\", \n",
    "                                                    \"Iran, Islamic Rep.\": \"Iran\",\n",
    "                                                    \"Hong Kong SAR, China\": \"Hong Kong\"})\n",
    "gdp.rename(columns={'Country Name': 'Country'}, inplace=True)\n",
    "gdp.head(2)"
   ]
  },
  {
   "cell_type": "code",
   "execution_count": 6,
   "metadata": {},
   "outputs": [
    {
     "data": {
      "text/html": [
       "<div>\n",
       "<style scoped>\n",
       "    .dataframe tbody tr th:only-of-type {\n",
       "        vertical-align: middle;\n",
       "    }\n",
       "\n",
       "    .dataframe tbody tr th {\n",
       "        vertical-align: top;\n",
       "    }\n",
       "\n",
       "    .dataframe thead th {\n",
       "        text-align: right;\n",
       "    }\n",
       "</style>\n",
       "<table border=\"1\" class=\"dataframe\">\n",
       "  <thead>\n",
       "    <tr style=\"text-align: right;\">\n",
       "      <th></th>\n",
       "      <th>Rank</th>\n",
       "      <th>Country</th>\n",
       "      <th>Documents</th>\n",
       "      <th>Citable documents</th>\n",
       "      <th>Citations</th>\n",
       "      <th>Self-citations</th>\n",
       "      <th>Citations per document</th>\n",
       "      <th>H index</th>\n",
       "    </tr>\n",
       "  </thead>\n",
       "  <tbody>\n",
       "    <tr>\n",
       "      <th>0</th>\n",
       "      <td>1</td>\n",
       "      <td>China</td>\n",
       "      <td>127050</td>\n",
       "      <td>126767</td>\n",
       "      <td>597237</td>\n",
       "      <td>411683</td>\n",
       "      <td>4.70</td>\n",
       "      <td>138</td>\n",
       "    </tr>\n",
       "    <tr>\n",
       "      <th>1</th>\n",
       "      <td>2</td>\n",
       "      <td>United States</td>\n",
       "      <td>96661</td>\n",
       "      <td>94747</td>\n",
       "      <td>792274</td>\n",
       "      <td>265436</td>\n",
       "      <td>8.20</td>\n",
       "      <td>230</td>\n",
       "    </tr>\n",
       "    <tr>\n",
       "      <th>2</th>\n",
       "      <td>3</td>\n",
       "      <td>Japan</td>\n",
       "      <td>30504</td>\n",
       "      <td>30287</td>\n",
       "      <td>223024</td>\n",
       "      <td>61554</td>\n",
       "      <td>7.31</td>\n",
       "      <td>134</td>\n",
       "    </tr>\n",
       "    <tr>\n",
       "      <th>3</th>\n",
       "      <td>4</td>\n",
       "      <td>United Kingdom</td>\n",
       "      <td>20944</td>\n",
       "      <td>20357</td>\n",
       "      <td>206091</td>\n",
       "      <td>37874</td>\n",
       "      <td>9.84</td>\n",
       "      <td>139</td>\n",
       "    </tr>\n",
       "    <tr>\n",
       "      <th>4</th>\n",
       "      <td>5</td>\n",
       "      <td>Russian Federation</td>\n",
       "      <td>18534</td>\n",
       "      <td>18301</td>\n",
       "      <td>34266</td>\n",
       "      <td>12422</td>\n",
       "      <td>1.85</td>\n",
       "      <td>57</td>\n",
       "    </tr>\n",
       "  </tbody>\n",
       "</table>\n",
       "</div>"
      ],
      "text/plain": [
       "   Rank             Country  Documents  Citable documents  Citations  \\\n",
       "0     1               China     127050             126767     597237   \n",
       "1     2       United States      96661              94747     792274   \n",
       "2     3               Japan      30504              30287     223024   \n",
       "3     4      United Kingdom      20944              20357     206091   \n",
       "4     5  Russian Federation      18534              18301      34266   \n",
       "\n",
       "   Self-citations  Citations per document  H index  \n",
       "0          411683                    4.70      138  \n",
       "1          265436                    8.20      230  \n",
       "2           61554                    7.31      134  \n",
       "3           37874                    9.84      139  \n",
       "4           12422                    1.85       57  "
      ]
     },
     "execution_count": 6,
     "metadata": {},
     "output_type": "execute_result"
    }
   ],
   "source": [
    "scimen = pd.read_excel(data_folder + 'scimagojr-3.xlsx')\n",
    "scimen.head()"
   ]
  },
  {
   "cell_type": "code",
   "execution_count": 7,
   "metadata": {},
   "outputs": [
    {
     "data": {
      "text/plain": [
       "(15, 20)"
      ]
     },
     "execution_count": 7,
     "metadata": {},
     "output_type": "execute_result"
    }
   ],
   "source": [
    "scimen_d = scimen[scimen.Rank.isin(range(1,16))]\n",
    "gdp_col = ['Country', '2006', '2007', '2008', '2009', '2010', '2011', '2012', '2013', '2014', '2015']\n",
    "df_results = pd.merge(scimen_d, energy, how='left', on='Country').merge(gdp[gdp_col], how = 'left', on='Country')\n",
    "df_results.set_index('Country', inplace=True)\n",
    "df_results.shape"
   ]
  },
  {
   "cell_type": "markdown",
   "metadata": {},
   "source": [
    "### Question 2 (6.6%)\n",
    "The previous question joined three datasets then reduced this to just the top 15 entries. When you joined the datasets, but before you reduced this to the top 15 items, how many entries did you lose?\n",
    "\n",
    "This function should return a single number."
   ]
  },
  {
   "cell_type": "code",
   "execution_count": 8,
   "metadata": {},
   "outputs": [
    {
     "name": "stdout",
     "output_type": "stream",
     "text": [
      "128\n"
     ]
    }
   ],
   "source": [
    "df_result1 = pd.merge(scimen, energy, how='left', on='Country').merge(gdp, how = 'left', on='Country')\n",
    "df_result2 = pd.merge(scimen, energy, how='outer', on='Country').merge(gdp[gdp_col], how = 'outer', on='Country')\n",
    "print(len(df_result2) - len(df_result1))"
   ]
  },
  {
   "cell_type": "markdown",
   "metadata": {},
   "source": [
    "### Question 3 (6.6%)\n",
    "What is the average GDP over the last 10 years for each country? (exclude missing values from this calculation.)\n",
    "\n",
    "This function should return a Series named avgGDP with 15 countries and their average GDP sorted in descending order."
   ]
  },
  {
   "cell_type": "code",
   "execution_count": 9,
   "metadata": {},
   "outputs": [
    {
     "data": {
      "text/plain": [
       "Country\n",
       "United States         1.536434e+13\n",
       "China                 6.348609e+12\n",
       "Japan                 5.542208e+12\n",
       "Germany               3.493025e+12\n",
       "France                2.681725e+12\n",
       "United Kingdom        2.487907e+12\n",
       "Brazil                2.189794e+12\n",
       "Italy                 2.120175e+12\n",
       "India                 1.769297e+12\n",
       "Canada                1.660647e+12\n",
       "Russian Federation    1.565459e+12\n",
       "Spain                 1.418078e+12\n",
       "Australia             1.164043e+12\n",
       "South Korea           1.106715e+12\n",
       "Iran                  4.441558e+11\n",
       "dtype: float64"
      ]
     },
     "execution_count": 9,
     "metadata": {},
     "output_type": "execute_result"
    }
   ],
   "source": [
    "df_results[['2006','2007','2008','2009','2010',\n",
    "                                   '2011','2012','2013','2014','2015']].mean(axis=1, \n",
    "                                                                             skipna=True).sort_values(ascending=False)"
   ]
  },
  {
   "cell_type": "markdown",
   "metadata": {},
   "source": [
    "### Question 4 (6.6%)\n",
    "By how much had the GDP changed over the 10 year span for the country with the 6th largest average GDP?\n",
    "\n",
    "This function should return a single number."
   ]
  },
  {
   "cell_type": "code",
   "execution_count": 10,
   "metadata": {},
   "outputs": [
    {
     "data": {
      "text/plain": [
       "246702696075.3999"
      ]
     },
     "execution_count": 10,
     "metadata": {},
     "output_type": "execute_result"
    }
   ],
   "source": [
    "d = pd.DataFrame(df_results[['2006','2007','2008','2009','2010',\n",
    "                                   '2011','2012','2013','2014',\n",
    "                         '2015']].mean(axis=1, skipna=True).sort_values(ascending=False).reset_index())\n",
    "d.iloc[5]['Country']\n",
    "df_results.loc[d.iloc[5]['Country']]['2015'] - df_results.loc[d.iloc[5]['Country']]['2006']"
   ]
  },
  {
   "cell_type": "markdown",
   "metadata": {},
   "source": [
    "### Question 5 (6.6%)\n",
    "What is the mean Energy Supply per Capita?\n",
    "\n",
    "This function should return a single number."
   ]
  },
  {
   "cell_type": "code",
   "execution_count": 11,
   "metadata": {},
   "outputs": [
    {
     "data": {
      "text/plain": [
       "157.6"
      ]
     },
     "execution_count": 11,
     "metadata": {},
     "output_type": "execute_result"
    }
   ],
   "source": [
    "df_results['Energy Supply per Capita'].mean()"
   ]
  },
  {
   "cell_type": "markdown",
   "metadata": {},
   "source": [
    "### Question 6 (6.6%)\n",
    "What country has the maximum % Renewable and what is the percentage?\n",
    "\n",
    "This function should return a tuple with the name of the country and the percentage."
   ]
  },
  {
   "cell_type": "code",
   "execution_count": 12,
   "metadata": {},
   "outputs": [
    {
     "data": {
      "text/plain": [
       "('Brazil', 69.65)"
      ]
     },
     "execution_count": 12,
     "metadata": {},
     "output_type": "execute_result"
    }
   ],
   "source": [
    "tuple([df_results['% Renewable'].idxmax(), df_results['% Renewable'].max().round(2)])"
   ]
  },
  {
   "cell_type": "markdown",
   "metadata": {},
   "source": [
    "### Question 7 (6.6%)\n",
    "Create a new column that is the ratio of Self-Citations to Total Citations. What is the maximum value for this new column, and what country has the highest ratio?\n",
    "\n",
    "This function should return a tuple with the name of the country and the ratio."
   ]
  },
  {
   "cell_type": "code",
   "execution_count": 13,
   "metadata": {},
   "outputs": [
    {
     "data": {
      "text/plain": [
       "('China', 0.69)"
      ]
     },
     "execution_count": 13,
     "metadata": {},
     "output_type": "execute_result"
    }
   ],
   "source": [
    "df_results['citation_ratio'] = df_results['Self-citations']/df_results['Citations']\n",
    "tuple([df_results['citation_ratio'].idxmax(), df_results['citation_ratio'].max().round(2)])"
   ]
  },
  {
   "cell_type": "markdown",
   "metadata": {},
   "source": [
    "### Question 8 (6.6%)\n",
    "Create a column that estimates the population using Energy Supply and Energy Supply per capita. What is the third most populous country according to this estimate?\n",
    "\n",
    "This function should return a single string value."
   ]
  },
  {
   "cell_type": "code",
   "execution_count": 17,
   "metadata": {},
   "outputs": [
    {
     "data": {
      "text/plain": [
       "'United States'"
      ]
     },
     "execution_count": 17,
     "metadata": {},
     "output_type": "execute_result"
    }
   ],
   "source": [
    "df_results['population_est'] = (df_results['Energy Supply']/df_results['Energy Supply per Capita'])\n",
    "df_results.sort_values('population_est', ascending=False).iloc[2].name"
   ]
  },
  {
   "cell_type": "markdown",
   "metadata": {},
   "source": [
    "### Question 9 (6.6%)\n",
    "Create a column that estimates the number of citable documents per person. What is the correlation between the number of citable documents per capita and the energy supply per capita? Use the .corr() method, (Pearson's correlation).\n",
    "\n",
    "This function should return a single number.\n",
    "\n",
    "(Optional: Use the built-in function plot9() to visualize the relationship between Energy Supply per Capita vs. Citable docs per Capita)"
   ]
  },
  {
   "cell_type": "code",
   "execution_count": null,
   "metadata": {},
   "outputs": [],
   "source": [
    "df_results['Citable docs per Capita'] = ddf_results['Citable documents'] / df_results['population_est']\n",
    "df_results['Citable docs per Capita'].corr(df_results['Energy Supply per Capita'])"
   ]
  },
  {
   "cell_type": "markdown",
   "metadata": {},
   "source": [
    "### Question 10 (6.6%)\n",
    "Create a new column with a 1 if the country's % Renewable value is at or above the median for all countries in the top 15, and a 0 if the country's % Renewable value is below the median.\n",
    "\n",
    "This function should return a series named HighRenew whose index is the country name sorted in ascending order of rank."
   ]
  },
  {
   "cell_type": "code",
   "execution_count": 22,
   "metadata": {},
   "outputs": [
    {
     "data": {
      "text/plain": [
       "Country\n",
       "Brazil                1\n",
       "Canada                1\n",
       "Spain                 1\n",
       "Italy                 1\n",
       "China                 1\n",
       "Germany               1\n",
       "Russian Federation    1\n",
       "France                1\n",
       "India                 0\n",
       "Australia             0\n",
       "United States         0\n",
       "United Kingdom        0\n",
       "Japan                 0\n",
       "Iran                  0\n",
       "South Korea           0\n",
       "Name: HighRenew, dtype: int64"
      ]
     },
     "execution_count": 22,
     "metadata": {},
     "output_type": "execute_result"
    }
   ],
   "source": [
    "median_val = df_results['% Renewable'].median()\n",
    "df_results['HighRenew'] = np.where(df_results['% Renewable'] < median_val, 0, 1)\n",
    "df_results.sort_values('% Renewable', ascending=False).HighRenew"
   ]
  },
  {
   "cell_type": "markdown",
   "metadata": {},
   "source": [
    "### Question 11 (6.6%)\n",
    "Use the following dictionary to group the Countries by Continent, then create a dateframe that displays the sample size (the number of countries in each continent bin), and the sum, mean, and std deviation for the estimated population of each country.\n",
    "\n",
    "```python\n",
    "ContinentDict  = {'China':'Asia', \n",
    "                  'United States':'North America', \n",
    "                  'Japan':'Asia', \n",
    "                  'United Kingdom':'Europe', \n",
    "                  'Russian Federation':'Europe', \n",
    "                  'Canada':'North America', \n",
    "                  'Germany':'Europe', \n",
    "                  'India':'Asia',\n",
    "                  'France':'Europe', \n",
    "                  'South Korea':'Asia', \n",
    "                  'Italy':'Europe', \n",
    "                  'Spain':'Europe', \n",
    "                  'Iran':'Asia',\n",
    "                  'Australia':'Australia', \n",
    "                  'Brazil':'South America'}\n",
    "```\n",
    "This function should return a DataFrame with index named Continent `['Asia', 'Australia', 'Europe', 'North America', 'South America']` and columns `['size', 'sum', 'mean', 'std']`"
   ]
  },
  {
   "cell_type": "code",
   "execution_count": 39,
   "metadata": {},
   "outputs": [
    {
     "name": "stderr",
     "output_type": "stream",
     "text": [
      "/Users/vishal.gupta/paysense/dashboards/venv/lib/python3.6/site-packages/ipykernel_launcher.py:23: FutureWarning: using a dict on a Series for aggregation\n",
      "is deprecated and will be removed in a future version\n"
     ]
    },
    {
     "data": {
      "text/html": [
       "<div>\n",
       "<style scoped>\n",
       "    .dataframe tbody tr th:only-of-type {\n",
       "        vertical-align: middle;\n",
       "    }\n",
       "\n",
       "    .dataframe tbody tr th {\n",
       "        vertical-align: top;\n",
       "    }\n",
       "\n",
       "    .dataframe thead th {\n",
       "        text-align: right;\n",
       "    }\n",
       "</style>\n",
       "<table border=\"1\" class=\"dataframe\">\n",
       "  <thead>\n",
       "    <tr style=\"text-align: right;\">\n",
       "      <th></th>\n",
       "      <th>size</th>\n",
       "      <th>sum</th>\n",
       "      <th>mean</th>\n",
       "      <th>std</th>\n",
       "    </tr>\n",
       "    <tr>\n",
       "      <th>continent</th>\n",
       "      <th></th>\n",
       "      <th></th>\n",
       "      <th></th>\n",
       "      <th></th>\n",
       "    </tr>\n",
       "  </thead>\n",
       "  <tbody>\n",
       "    <tr>\n",
       "      <th>Asia</th>\n",
       "      <td>5.0</td>\n",
       "      <td>2.898666e+09</td>\n",
       "      <td>5.797333e+08</td>\n",
       "      <td>6.790979e+08</td>\n",
       "    </tr>\n",
       "    <tr>\n",
       "      <th>Australia</th>\n",
       "      <td>1.0</td>\n",
       "      <td>2.331602e+07</td>\n",
       "      <td>2.331602e+07</td>\n",
       "      <td>NaN</td>\n",
       "    </tr>\n",
       "    <tr>\n",
       "      <th>Europe</th>\n",
       "      <td>6.0</td>\n",
       "      <td>4.579297e+08</td>\n",
       "      <td>7.632161e+07</td>\n",
       "      <td>3.464767e+07</td>\n",
       "    </tr>\n",
       "    <tr>\n",
       "      <th>North America</th>\n",
       "      <td>2.0</td>\n",
       "      <td>3.528552e+08</td>\n",
       "      <td>1.764276e+08</td>\n",
       "      <td>1.996696e+08</td>\n",
       "    </tr>\n",
       "    <tr>\n",
       "      <th>South America</th>\n",
       "      <td>1.0</td>\n",
       "      <td>2.059153e+08</td>\n",
       "      <td>2.059153e+08</td>\n",
       "      <td>NaN</td>\n",
       "    </tr>\n",
       "  </tbody>\n",
       "</table>\n",
       "</div>"
      ],
      "text/plain": [
       "               size           sum          mean           std\n",
       "continent                                                    \n",
       "Asia            5.0  2.898666e+09  5.797333e+08  6.790979e+08\n",
       "Australia       1.0  2.331602e+07  2.331602e+07           NaN\n",
       "Europe          6.0  4.579297e+08  7.632161e+07  3.464767e+07\n",
       "North America   2.0  3.528552e+08  1.764276e+08  1.996696e+08\n",
       "South America   1.0  2.059153e+08  2.059153e+08           NaN"
      ]
     },
     "execution_count": 39,
     "metadata": {},
     "output_type": "execute_result"
    }
   ],
   "source": [
    "ContinentDict = {'China':'Asia', \n",
    "                  'United States':'North America', \n",
    "                  'Japan':'Asia', \n",
    "                  'United Kingdom':'Europe', \n",
    "                  'Russian Federation':'Europe', \n",
    "                  'Canada':'North America', \n",
    "                  'Germany':'Europe', \n",
    "                  'India':'Asia',\n",
    "                  'France':'Europe', \n",
    "                  'South Korea':'Asia', \n",
    "                  'Italy':'Europe', \n",
    "                  'Spain':'Europe', \n",
    "                  'Iran':'Asia',\n",
    "                  'Australia':'Australia', \n",
    "                  'Brazil':'South America'}\n",
    "df_continent = df_results.reset_index()\n",
    "df_continent['continent'] = df_continent['Country'].map(ContinentDict)\n",
    "df_continent.population_est = df_continent.population_est.astype(float)\n",
    "#df_continent = df_continent.set_index('continent')\n",
    "df_continent.groupby('continent')['population_est'].agg({'size': np.size,\n",
    "                                                          'sum': np.sum,\n",
    "                                                          'mean': np.mean,\n",
    "                                                          'std': np.std})"
   ]
  },
  {
   "cell_type": "markdown",
   "metadata": {},
   "source": [
    "### Question 12 (6.6%)\n",
    "Cut % Renewable into 5 bins. Group Top15 by the Continent, as well as these new % Renewable bins. How many countries are in each of these groups?\n",
    "\n",
    "This function should return a Series with a MultiIndex of Continent, then the bins for % Renewable. Do not include groups with no countries."
   ]
  },
  {
   "cell_type": "code",
   "execution_count": 44,
   "metadata": {},
   "outputs": [
    {
     "data": {
      "text/plain": [
       "continent      bins            \n",
       "Asia           (2.212, 15.753]     4\n",
       "               (15.753, 29.227]    1\n",
       "Australia      (2.212, 15.753]     1\n",
       "Europe         (2.212, 15.753]     1\n",
       "               (15.753, 29.227]    3\n",
       "               (29.227, 42.701]    2\n",
       "North America  (2.212, 15.753]     1\n",
       "               (56.174, 69.648]    1\n",
       "South America  (56.174, 69.648]    1\n",
       "dtype: int64"
      ]
     },
     "execution_count": 44,
     "metadata": {},
     "output_type": "execute_result"
    }
   ],
   "source": [
    "df_continent['bins'] = pd.cut(df_continent['% Renewable'],5)\n",
    "df_continent.groupby(['continent', 'bins']).size()"
   ]
  },
  {
   "cell_type": "markdown",
   "metadata": {},
   "source": [
    "### Question 13 (6.6%)\n",
    "Convert the Population Estimate series to a string with thousands separator (using commas). Do not round the results.\n",
    "\n",
    "e.g. 317615384.61538464 -> 317,615,384.61538464\n",
    "\n",
    "This function should return a Series PopEst whose index is the country name and whose values are the population estimate string."
   ]
  },
  {
   "cell_type": "code",
   "execution_count": 48,
   "metadata": {},
   "outputs": [
    {
     "data": {
      "text/plain": [
       "Country\n",
       "China                 1367645161.2903225\n",
       "United States         317615384.61538464\n",
       "Japan                 127409395.97315437\n",
       "United Kingdom        63870967.741935484\n",
       "Russian Federation           143500000.0\n",
       "Canada                 35239864.86486486\n",
       "Germany                80369696.96969697\n",
       "India                 1276730769.2307692\n",
       "France                 63837349.39759036\n",
       "South Korea           49805429.864253394\n",
       "Italy                 59908256.880733944\n",
       "Spain                   46443396.2264151\n",
       "Iran                   77075630.25210084\n",
       "Australia             23316017.316017315\n",
       "Brazil                205915254.23728815\n",
       "Name: population_est_str, dtype: object"
      ]
     },
     "execution_count": 48,
     "metadata": {},
     "output_type": "execute_result"
    }
   ],
   "source": [
    "df_results['population_est_str'] = df_results.population_est.astype(str)\n",
    "df_results['population_est_str']"
   ]
  },
  {
   "cell_type": "code",
   "execution_count": null,
   "metadata": {},
   "outputs": [],
   "source": []
  }
 ],
 "metadata": {
  "kernelspec": {
   "display_name": "dashboard",
   "language": "python",
   "name": "dashboard"
  },
  "language_info": {
   "codemirror_mode": {
    "name": "ipython",
    "version": 3
   },
   "file_extension": ".py",
   "mimetype": "text/x-python",
   "name": "python",
   "nbconvert_exporter": "python",
   "pygments_lexer": "ipython3",
   "version": "3.6.8"
  }
 },
 "nbformat": 4,
 "nbformat_minor": 2
}
